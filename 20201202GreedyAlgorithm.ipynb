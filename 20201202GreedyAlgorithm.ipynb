{
  "nbformat": 4,
  "nbformat_minor": 0,
  "metadata": {
    "colab": {
      "name": "歡迎使用 Colaboratory",
      "provenance": [],
      "collapsed_sections": [],
      "toc_visible": true,
      "include_colab_link": true
    },
    "kernelspec": {
      "display_name": "Python 3",
      "name": "python3"
    }
  },
  "cells": [
    {
      "cell_type": "markdown",
      "metadata": {
        "id": "view-in-github",
        "colab_type": "text"
      },
      "source": [
        "<a href=\"https://colab.research.google.com/github/oopp456789/oopp/blob/master/20201202GreedyAlgorithm.ipynb\" target=\"_parent\"><img src=\"https://colab.research.google.com/assets/colab-badge.svg\" alt=\"Open In Colab\"/></a>"
      ]
    },
    {
      "cell_type": "code",
      "metadata": {
        "id": "Ep-P6GiBJ5yG",
        "outputId": "73141ef3-4fd9-433b-d1fe-e60f7bc99691",
        "colab": {
          "base_uri": "https://localhost:8080/"
        }
      },
      "source": [
        "# t=面積\n",
        "t=[25, 20, 5, 1]\n",
        "\n",
        "# n=多少錢\n",
        "def change(t, n):\n",
        "  g = 0\n",
        "  m = [0 for _ in range(len(t))]\n",
        "  for i, money in enumerate(t):\n",
        "    m[i] = n // money\n",
        "    k = n // money\n",
        "    g = g + k\n",
        "    n = n % money\n",
        "    print(str(money) + 'X' + str(k))\n",
        "    print(str(m) + ' 剩下' + str(n))\n",
        "  print('共' + str(g) + '個硬幣')\n",
        "  return m\n",
        "\n",
        "num=int(input())\n",
        "print(change(t, num))\n"
      ],
      "execution_count": 32,
      "outputs": [
        {
          "output_type": "stream",
          "text": [
            "41\n",
            "25X1\n",
            "[1, 0, 0, 0] 剩下16\n",
            "20X0\n",
            "[1, 0, 0, 0] 剩下16\n",
            "5X3\n",
            "[1, 0, 3, 0] 剩下1\n",
            "1X1\n",
            "[1, 0, 3, 1] 剩下0\n",
            "共5個硬幣\n",
            "[1, 0, 3, 1]\n"
          ],
          "name": "stdout"
        }
      ]
    }
  ]
}