{
  "nbformat": 4,
  "nbformat_minor": 0,
  "metadata": {
    "colab": {
      "name": "歡迎使用 Colaboratory",
      "provenance": [],
      "collapsed_sections": [],
      "toc_visible": true,
      "include_colab_link": true
    },
    "kernelspec": {
      "display_name": "Python 3",
      "name": "python3"
    }
  },
  "cells": [
    {
      "cell_type": "markdown",
      "metadata": {
        "id": "view-in-github",
        "colab_type": "text"
      },
      "source": [
        "<a href=\"https://colab.research.google.com/github/oopp456789/oopp/blob/master/20201202GreedyAlgorithm.ipynb\" target=\"_parent\"><img src=\"https://colab.research.google.com/assets/colab-badge.svg\" alt=\"Open In Colab\"/></a>"
      ]
    },
    {
      "cell_type": "markdown",
      "metadata": {
        "id": "UUorSDYUTrqc"
      },
      "source": [
        "第一題貪婪法"
      ]
    },
    {
      "cell_type": "code",
      "metadata": {
        "colab": {
          "base_uri": "https://localhost:8080/"
        },
        "id": "Ep-P6GiBJ5yG",
        "outputId": "73141ef3-4fd9-433b-d1fe-e60f7bc99691"
      },
      "source": [
        "# t=面積\n",
        "t=[25, 20, 5, 1]\n",
        "\n",
        "# n=多少錢\n",
        "def change(t, n):\n",
        "  g = 0\n",
        "  m = [0 for _ in range(len(t))]\n",
        "  for i, money in enumerate(t):\n",
        "    m[i] = n // money\n",
        "    k = n // money\n",
        "    g = g + k\n",
        "    n = n % money\n",
        "    print(str(money) + 'X' + str(k))\n",
        "    print(str(m) + ' 剩下' + str(n))\n",
        "  print('共' + str(g) + '個硬幣')\n",
        "  return m\n",
        "\n",
        "num=int(input())\n",
        "print(change(t, num))\n"
      ],
      "execution_count": null,
      "outputs": [
        {
          "output_type": "stream",
          "text": [
            "41\n",
            "25X1\n",
            "[1, 0, 0, 0] 剩下16\n",
            "20X0\n",
            "[1, 0, 0, 0] 剩下16\n",
            "5X3\n",
            "[1, 0, 3, 0] 剩下1\n",
            "1X1\n",
            "[1, 0, 3, 1] 剩下0\n",
            "共5個硬幣\n",
            "[1, 0, 3, 1]\n"
          ],
          "name": "stdout"
        }
      ]
    },
    {
      "cell_type": "markdown",
      "metadata": {
        "id": "qpRKysUYTp1Y"
      },
      "source": [
        "背包問題貪婪法"
      ]
    },
    {
      "cell_type": "code",
      "metadata": {
        "id": "MpdocvKfTwgb"
      },
      "source": [
        ""
      ],
      "execution_count": 2,
      "outputs": []
    },
    {
      "cell_type": "markdown",
      "metadata": {
        "id": "JLsPKC7rcYHh"
      },
      "source": [
        "第一題動態規劃"
      ]
    },
    {
      "cell_type": "code",
      "metadata": {
        "id": "yU4HiQPtcfnE",
        "colab": {
          "base_uri": "https://localhost:8080/"
        },
        "outputId": "e96c1fed-064f-4dc9-e6b6-4ea08e7cf069"
      },
      "source": [
        "def getMinCountsLoop(k, values):\n",
        "    memo = [-1] * (k + 1)\n",
        "    memo[0] = 0 \n",
        "    for item in range(1, k + 1):\n",
        "        minCount = k + 1 \n",
        "        for iter in range(len(values)):\n",
        "            currentValue = values[iter]\n",
        "            if (currentValue > item):\n",
        "                continue\n",
        "\n",
        "            rest = item - currentValue\n",
        "            restCount = memo[rest]\n",
        "           \n",
        "            if (restCount == -1):\n",
        "                continue\n",
        "\n",
        "            itemCount = 1 + restCount\n",
        "            if (itemCount < minCount):\n",
        "                minCount = itemCount\n",
        "\n",
        "        if (minCount != k + 1):\n",
        "            memo[item] = minCount\n",
        "\n",
        "    return memo[k]\n",
        "\n",
        "def getMinCountsDPSol():\n",
        "    num=int(input())\n",
        "    values = [ 25, 20, 5, 1] \n",
        "    total = num \n",
        "\n",
        "    return getMinCountsLoop(total, values) \n",
        "\n",
        "def main():\n",
        "    result = getMinCountsDPSol()\n",
        "    print(result)\n",
        "\n",
        "if __name__ == \"__main__\":\n",
        "    main()"
      ],
      "execution_count": 13,
      "outputs": [
        {
          "output_type": "stream",
          "text": [
            "41\n",
            "3\n"
          ],
          "name": "stdout"
        }
      ]
    },
    {
      "cell_type": "markdown",
      "metadata": {
        "id": "xeN9dOL5cfvM"
      },
      "source": [
        "背包問題動態規劃"
      ]
    },
    {
      "cell_type": "code",
      "metadata": {
        "id": "521IlHFbci4r",
        "colab": {
          "base_uri": "https://localhost:8080/"
        },
        "outputId": "df09388d-46f6-43ce-eada-5b80dbbe3149"
      },
      "source": [
        "from functools import reduce\n",
        "\n",
        "def knapsack(fruits, limit):\n",
        "    def nextVI(i, values, items):\n",
        "        return reduce(\n",
        "            (lambda vis, vi: (vis[0] + [vi[0]], vis[1] + [vi[1]])),  \n",
        "            [(values[w - fruits[i][1]] + fruits[i][2], i) \n",
        "                if w >= fruits[i][1] and w < limit + 1 and\n",
        "                    values[w - fruits[i][1]] + fruits[i][2] > values[w] \n",
        "                else (values[w], items[w]) for w in range(len(values))], \n",
        "            ([], [])\n",
        "        )\n",
        "\n",
        "    def iterate(i):\n",
        "        if i == 0:\n",
        "            return nextVI(i, [0] * (limit + 1), [0] * (limit + 1))\n",
        "        else:\n",
        "            values, items = iterate(i - 1)\n",
        "            return nextVI(i, values, items)\n",
        "\n",
        "    def solution(i, items, minWeight):\n",
        "        return (([fruits[items[i]]] + \n",
        "                    solution(i - fruits[items[i]][1], items, minWeight)) \n",
        "                if i >= minWeight else [])\n",
        "\n",
        "    return solution(limit, \n",
        "               iterate(len(fruits) - 1)[1], min([f[1] for f in fruits]))\n",
        "    \n",
        "print(knapsack([('PS5', 5, 17000), ('iPad pro 12', 1, 35000),\n",
        "                ('Macbook pro 15', 4, 60000), ('HomePod', 3, 9000),\n",
        "                ('Mac mini', 2, 20000)], 10))"
      ],
      "execution_count": 2,
      "outputs": [
        {
          "output_type": "stream",
          "text": [
            "[('Mac mini', 2, 20000), ('Mac mini', 2, 20000), ('Macbook pro 15', 4, 60000), ('iPad pro 12', 1, 35000), ('iPad pro 12', 1, 35000)]\n"
          ],
          "name": "stdout"
        }
      ]
    }
  ]
}