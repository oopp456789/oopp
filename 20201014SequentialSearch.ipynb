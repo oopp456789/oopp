{
  "nbformat": 4,
  "nbformat_minor": 0,
  "metadata": {
    "colab": {
      "name": "歡迎使用 Colaboratory",
      "provenance": [],
      "collapsed_sections": [],
      "toc_visible": true,
      "include_colab_link": true
    },
    "kernelspec": {
      "display_name": "Python 3",
      "name": "python3"
    }
  },
  "cells": [
    {
      "cell_type": "markdown",
      "metadata": {
        "id": "view-in-github",
        "colab_type": "text"
      },
      "source": [
        "<a href=\"https://colab.research.google.com/github/oopp456789/oopp/blob/master/20201014SequentialSearch.ipynb\" target=\"_parent\"><img src=\"https://colab.research.google.com/assets/colab-badge.svg\" alt=\"Open In Colab\"/></a>"
      ]
    },
    {
      "cell_type": "code",
      "metadata": {
        "id": "w3XJW6jp1UjX",
        "outputId": "199f09e0-d2f8-4bd2-e251-b0604465af35",
        "colab": {
          "base_uri": "https://localhost:8080/",
          "height": 34
        }
      },
      "source": [
        "data = [20,31,50,17,16,36,19,8]\n",
        "def sequential_search(data, key):\n",
        " g = 0\n",
        " for i in data:\n",
        "  if i == key :\n",
        "   print(\"找到了\")\n",
        "   break \n",
        "  else:\n",
        "   g=g+1\n",
        "   if g == 8:\n",
        "    print(\"沒有找到\")\n",
        "   \n",
        "\n",
        "sequential_search(data,30)\n"
      ],
      "execution_count": 28,
      "outputs": [
        {
          "output_type": "stream",
          "text": [
            "沒有找到\n"
          ],
          "name": "stdout"
        }
      ]
    },
    {
      "cell_type": "code",
      "metadata": {
        "id": "QxtMoqxl93TY",
        "outputId": "2bd3b4b7-bc80-4367-a91d-df3fa45ce446",
        "colab": {
          "base_uri": "https://localhost:8080/",
          "height": 34
        }
      },
      "source": [
        "data = [20,31,50,17,16,36,19,8]\n",
        "def sequential_search(data, key):\n",
        " g = 0\n",
        " for i in data:\n",
        "  if i == key :\n",
        "   print(\"找到了\")\n",
        "   break \n",
        "  else:\n",
        "   g=g+1\n",
        "   if g == 8:\n",
        "    print(\"沒有找到\")\n",
        "   \n",
        "\n",
        "sequential_search(data,50)\n"
      ],
      "execution_count": 29,
      "outputs": [
        {
          "output_type": "stream",
          "text": [
            "找到了\n"
          ],
          "name": "stdout"
        }
      ]
    }
  ]
}