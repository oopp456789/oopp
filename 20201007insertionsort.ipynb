{
  "nbformat": 4,
  "nbformat_minor": 0,
  "metadata": {
    "colab": {
      "name": "insertionsort.ipynb",
      "provenance": [],
      "collapsed_sections": [],
      "include_colab_link": true
    },
    "kernelspec": {
      "name": "python3",
      "display_name": "Python 3"
    }
  },
  "cells": [
    {
      "cell_type": "markdown",
      "metadata": {
        "id": "view-in-github",
        "colab_type": "text"
      },
      "source": [
        "<a href=\"https://colab.research.google.com/github/oopp456789/oopp/blob/master/20201007insertionsort.ipynb\" target=\"_parent\"><img src=\"https://colab.research.google.com/assets/colab-badge.svg\" alt=\"Open In Colab\"/></a>"
      ]
    },
    {
      "cell_type": "markdown",
      "metadata": {
        "id": "j95w6SLwOC0z"
      },
      "source": [
        "Insertion sort (插入排序)"
      ]
    },
    {
      "cell_type": "code",
      "metadata": {
        "id": "BxBaYEwzNj_v",
        "outputId": "a7d4b957-afa9-4d3a-fe93-82e9e769fdfa",
        "colab": {
          "base_uri": "https://localhost:8080/",
          "height": 306
        }
      },
      "source": [
        "\n",
        "def Insertion_Sort(datas):\n",
        "    for i in range(1, len(datas)):  # \n",
        "        for j in range(i):\n",
        "            current = datas[i] #n\n",
        "            if current < datas[j]:\n",
        "                for k in range(i,j):\n",
        "                  print(datas) #n^2\n",
        "    return datas\n",
        "\n",
        "\n",
        "def insertionSort(arr):\n",
        "    for i in range(len(arr)):\n",
        "        preIndex = i-1 #1\n",
        "        current = arr[i] #1\n",
        "        while preIndex >= 0 and arr[preIndex] > current:\n",
        "            arr[preIndex+1] = arr[preIndex] #1\n",
        "            preIndex-=1 #1\n",
        "        arr[preIndex+1] = current #1\n",
        "        print(arr)\n",
        "    return arr\n",
        "\n",
        "if __name__ == '__main__':\n",
        "    import random\n",
        "    a = list(range(16)) #1\n",
        "    random.shuffle(a)\n",
        "    b = a.copy() #1\n",
        "\n",
        "    arr = insertionSort(a)\n",
        "    print('---'*10)\n",
        "    Insertion_Sort(b)\n",
        "    #時間複雜度O為n^2"
      ],
      "execution_count": null,
      "outputs": [
        {
          "output_type": "stream",
          "text": [
            "[1, 3, 14, 6, 7, 9, 10, 13, 0, 12, 15, 11, 8, 4, 5, 2]\n",
            "[1, 3, 14, 6, 7, 9, 10, 13, 0, 12, 15, 11, 8, 4, 5, 2]\n",
            "[1, 3, 14, 6, 7, 9, 10, 13, 0, 12, 15, 11, 8, 4, 5, 2]\n",
            "[1, 3, 6, 14, 7, 9, 10, 13, 0, 12, 15, 11, 8, 4, 5, 2]\n",
            "[1, 3, 6, 7, 14, 9, 10, 13, 0, 12, 15, 11, 8, 4, 5, 2]\n",
            "[1, 3, 6, 7, 9, 14, 10, 13, 0, 12, 15, 11, 8, 4, 5, 2]\n",
            "[1, 3, 6, 7, 9, 10, 14, 13, 0, 12, 15, 11, 8, 4, 5, 2]\n",
            "[1, 3, 6, 7, 9, 10, 13, 14, 0, 12, 15, 11, 8, 4, 5, 2]\n",
            "[0, 1, 3, 6, 7, 9, 10, 13, 14, 12, 15, 11, 8, 4, 5, 2]\n",
            "[0, 1, 3, 6, 7, 9, 10, 12, 13, 14, 15, 11, 8, 4, 5, 2]\n",
            "[0, 1, 3, 6, 7, 9, 10, 12, 13, 14, 15, 11, 8, 4, 5, 2]\n",
            "[0, 1, 3, 6, 7, 9, 10, 11, 12, 13, 14, 15, 8, 4, 5, 2]\n",
            "[0, 1, 3, 6, 7, 8, 9, 10, 11, 12, 13, 14, 15, 4, 5, 2]\n",
            "[0, 1, 3, 4, 6, 7, 8, 9, 10, 11, 12, 13, 14, 15, 5, 2]\n",
            "[0, 1, 3, 4, 5, 6, 7, 8, 9, 10, 11, 12, 13, 14, 15, 2]\n",
            "[0, 1, 2, 3, 4, 5, 6, 7, 8, 9, 10, 11, 12, 13, 14, 15]\n",
            "------------------------------\n"
          ],
          "name": "stdout"
        }
      ]
    }
  ]
}