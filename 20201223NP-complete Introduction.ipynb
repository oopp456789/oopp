{
  "nbformat": 4,
  "nbformat_minor": 0,
  "metadata": {
    "colab": {
      "name": "歡迎使用 Colaboratory",
      "provenance": [],
      "collapsed_sections": [],
      "toc_visible": true,
      "include_colab_link": true
    },
    "kernelspec": {
      "display_name": "Python 3",
      "name": "python3"
    }
  },
  "cells": [
    {
      "cell_type": "markdown",
      "metadata": {
        "id": "view-in-github",
        "colab_type": "text"
      },
      "source": [
        "<a href=\"https://colab.research.google.com/github/oopp456789/oopp/blob/master/20201223NP-complete%20Introduction.ipynb\" target=\"_parent\"><img src=\"https://colab.research.google.com/assets/colab-badge.svg\" alt=\"Open In Colab\"/></a>"
      ]
    },
    {
      "cell_type": "markdown",
      "metadata": {
        "id": "EtqgFDu8aVG0"
      },
      "source": [
        "**哈密頓路徑問題**\r\n",
        "\r\n",
        "---\r\n",
        "\r\n"
      ]
    },
    {
      "cell_type": "markdown",
      "metadata": {
        "id": "PTwhgMz4ac79"
      },
      "source": [
        "哈密​​頓圖（英語：Hamiltonian graph，或Traceable graph）是一個無向圖，由天文學家哈密頓提出，由指定的起點前往指定的終點，途中經過所有其他節點且只經過一次。在圖論中是指含有哈密頓迴路的圖，閉合的哈密頓路徑稱作哈密頓迴路（Hamiltonian cycle），含有圖中所有頂點的路徑稱作哈密頓路徑（Hamiltonian path）。\r\n",
        "\r\n",
        "\r\n",
        "---\r\n",
        "\r\n"
      ]
    },
    {
      "cell_type": "markdown",
      "metadata": {
        "id": "iElWIf3IcZsY"
      },
      "source": [
        "哈密​​頓路徑問題在上世紀七十年代初，終於被證明是“NP完全”的。據說具有這樣性質的問題，難於找到一個有效的算法。實際上對於某些頂點數不到100的網絡，利用現有最好的算法和計算機也需要比較荒唐的時間（比如幾百年）才能確定其是否存在一條這樣的路徑。\r\n",
        "從圖中的任意一點出發，路途中經過圖中每一個結點當且僅當一次，則成為哈密頓迴路。\r\n",
        "要滿足兩個條件：\r\n",
        "\r\n",
        "⒈封閉的環\r\n",
        "\r\n",
        "⒉是一個連通圖，且圖中任意兩點可達\r\n",
        "經過圖（有向圖或無向圖）中所有頂點一次且僅一次的通路稱為哈密頓通路。\r\n",
        "經過圖中所有頂點一次且僅一次的迴路稱為哈密頓迴路。\r\n",
        "具有哈密頓迴路的圖稱為哈密頓圖，具有哈密頓通路但不具有哈密頓迴路的圖稱為半哈密頓圖。\r\n",
        "\r\n",
        "\r\n"
      ]
    },
    {
      "cell_type": "markdown",
      "metadata": {
        "id": "uwcH5YtocvEE"
      },
      "source": [
        "對於無向圖來說，哈密頓路徑對於圖每個頂點只訪問一次。哈密頓回路（或哈密頓迴圈）是一個哈密頓路徑，並且從哈密頓路徑的最後一個頂點到第一個頂點存在邊緣（也就是可以回到初始位置）。確定給定圖是否包含哈密頓回路。如果包含，則列印路徑。以下是所需功能的輸入和輸出。\r\n",
        "\r\n",
        "\r\n",
        "\r\n",
        "輸入：2D陣列graph[V][V]（其中V是圖中的頂點數，通過鄰接矩陣表示）。如果從i到j存在一條邊，則graph[i][j]為1，否則graph[i][j]為0。\r\n",
        "\r\n",
        "\r\n",
        "\r\n",
        "輸出：包含哈密頓回路的path[V]。path[i]應該表示哈密頓回路中的第i個頂點。如果圖中沒有哈密頓回路，程式碼也應該返回false。\r\n",
        "\r\n",
        "\r\n",
        "\r\n",
        "---\r\n",
        "\r\n"
      ]
    },
    {
      "cell_type": "markdown",
      "metadata": {
        "id": "U1gxQkFpoFeW"
      },
      "source": [
        "\r\n",
        "例如，下圖中的哈密頓迴路是{0,1,2,4,3,0}。\r\n",
        "\r\n",
        "![未命名.png](data:image/png;base64,iVBORw0KGgoAAAANSUhEUgAAAG4AAAByCAIAAAA9LXNMAAAAAXNSR0IArs4c6QAAAARnQU1BAACxjwv8YQUAAAAJcEhZcwAADsMAAA7DAcdvqGQAAATkSURBVHhe7Z1tThwxDIZ7kariVkgVB0GCW4A4QRFnAP6COFbtmWUmH07iTN4sycrS8ytdMvFjOzObacuv33+uDAimEoaphGEqYZhKGKYShqmEEav8+/D6+e8+GIy5+/f1fBsOHuX++eP16ToYjLh+fH97/BsMHkUX5s3Tm2JhK6HK25fPj5c7d4QC+Pj6XPDc8bj6MjlouV/vDzfxYLiSJX+aNJeJwmSzpzD9i8ZCUvgqqTqCWnNGeFLfHY00lwnHEEyyJulBjIEVN3dDFKZT75wtfz3KNvVUxj/jxxmXT3tgcWvTnIvBVDk056+gRriubv9xVApeKEWbO04X1X/suqXjMl5SKpWBJSmlX7qu6yGJo1JY4joF+1olxpFnXCjIZSKpsrEV8pmgPxWsqSpmVyndRoJKFGbkn3IC5vjXzdvbcU7JWHFm4PmrVQY1wma3yR3FLOV73Ikrd7dcphLXo6mYfFWyAmcKoc4vpyoXj4lYKqtSXCLn8FuflE/VNTJkMpFUme/QImImch4JoYZiHJVhDZ5YbIZtcqKxQAhuw2CG066y4wtt6wNCCJPT5l3UF6dLnqtSDCxHc1SEnL8k7ckj6sLUdp6vMtNWEbn9uwq2U26fhdxtqgp9mPpPhirVSaComqtjQ9dBlLzmJtjQhUlpVpdLrNI4iKmEYSphmEoYphKGqYRhKmGYShg6lfQIrXvin5u2MEdRWf46D/n2necSVOo0kW7IF/AkF6BS++WalgE5QEkxv0rVweqC9rzrILOr5MM69eRVH65mcpW1haYv4XrmVkkzV25/5Xv9YaZWecRLv6eiiVUelNLt5jOvyuP3EFpPj6eiaVW23ED6FOa8VTkcphLGOVQaCkwlDFMJw1TCMJUwTCUMUwnDVMLQqbRHdAVnV0lTQU8ikMeXU6nscAxR87dJC8ykEhj2Di49E6ns9S6BlgfJ0DQq+71IQL07m0Vl1/eumMknUdnzpSsBKfk5VNIMPd7GOAA24hlUdntH6NKerQlUdrzhuDQnbHyVHf8+RUBjYU5QlbNgKmGcQ6WhwFTCMJUwTCUMUwnDVMIwlTBMJQydSntEV9BN5ZmOMFIcOtoYU+X5jjBSHPAypMo75P9CdJD6c/sBVfb953NqqpcxnsrOr3H01O7Xw6mkD3d+jaOnbsseTOVZXuPoqcrrWCp/+Bkopia1Q6n8+WegiIqbz0gqh7nheKhXNY7KQZ6BYrQLG6kqJ8dUwjiHSkOBqYRhKmGYShimEoaphGEqYZhKGKYSRqxSeSo1wtubFnRh3gB/jyN9l9p+C43/pYrPCIY5La8lDPME+w1+2U7ikwK+ShaXqjW+THAWOeDppIpEmMsB0nN0Iqc9PHZVFn5GEDfcmbmGRJgcC0mUDjdJvaL/HJUFL+IBqjZjAyGHufWcGKbq8NhRmXDPZS/tlSvz9bgY5j54vGJ2lcXbiPiBZX/ZFfMm/X2bchTzUrbxfU1cINu4Uym8l32PO1eUJ6+cRIrC1ScXoKZiylW5I7XGJVSlK33Da8HKqiztlUtRhD1+MXvlBmSv3LfebcTZKMNELZTsD4kQpoNkrdivC67KtdQr1MzX3St1YWo7z1cpd7FM8TY1Mvow9Z8MVaqTQI0wXWu76MKkHUxdLrFK4yCmEoaphGEqYZhKGKYSxJ+r/953KpYQ2lhMAAAAAElFTkSuQmCC)\r\n",
        "\r\n",
        "並且下圖不包含任何哈密爾頓迴路。\r\n",
        "\r\n",
        "![未命名2.png](data:image/png;base64,iVBORw0KGgoAAAANSUhEUgAAAGkAAAByCAIAAADf8Wg1AAAAAXNSR0IArs4c6QAAAARnQU1BAACxjwv8YQUAAAAJcEhZcwAADsMAAA7DAcdvqGQAAATPSURBVHhe7Z1dTuUwDEZnIyPErpAQC7kS7ALECkCsAXgFsayx2/uTxE7qfGloOrJ0nsq9aXzsuG06A3/+Xl07GO4Ox93huDscd4fj7nDcHY67w8m5u318/355SA5K7l9+Xg/pQZSH16/355vkoODm6fPj6TY5iGIL8+75Q5uY7u7w9v31dh8eoRl//XxPRLL4uCHgZWh+P5+Pd/JgOpMpYZa8LiPCZJXHMOOTSiGE5o7yn1RTcIRHiWXRkeZC4Ekng8xZedQmPTltrncRZlDRnJ54PkqFSnfyQ3FgskDaI5GrlcaclKkJJ5oTprgIUc4rJincKSIoCWdZnBAqaSm3ZREVROTcKbqrWMq3dt7QAyPcKXOav8OCZmsy1ELwBkrqs+4ai72snn4qm6+YZ+pO6/1JrSmh8reCCDngueNGXeNofyYYgcevdpdUAas8Dx44ZQun40FcpUvcNJQ6n6RELHXHMQffSUuX+H/qbhKXiWWp7tQ5cZZOvrSMlYK3UFCfdVdedIuo6kviiLRohLu0yo5M+tLKP9JYAgSvrGSEY6O4EBtsq3RCCZPzFJ00Xl4iW9KdGkmJ5jAIPWFZ2rNF1IWprC3NXWGlCEpNtwrWkbbRDKVrSxX2MNVP6u7MLYzCaM7/GVsLo2w1l/kZW5iUV21iOXfOMu4Ox93huDscd4fj7nDcHY67w6lxR/eutrvwfWMOcyx3y4/GqzzJltmlO5sX8rvKw2yWPbqzPqjSNFbZfcixQ3fKdnQG4z4Fyu7c8V6WefCqD1ezN3e1pWQv0np25o5Grmxhy1dkmH25Q0T0u1nZkzvQQrcrxo7c4Y2f5tPjZmU/7lq6fp/S21HdDYe7w+nizolxdzjuDsfd4bg7HHeH4+5w3B1OjTu/N47ZyB0Ntepj/JrbeWO76/AMn/nnhQhDu1sxzgvr5WNkd722y2l6q6RkXHf99srXegE0rLuurwfXGXxUdz3fDRKrFPWg7miEHm8YAlZopkO66/ZmK6Q9PSO663iVCGnO0IDuOr7JT2gsvRHrbi+4O5wu7pwYd4fj7nDcHY67w3F3OO4Ox93h1Ljze+OYzu5+6fk/B7QvMIi733v+zwHkewx392v+9hSQ+p3qEdz1/Z9LZqqnMYC7zq8m7NT23O3d0Yc7v5qwU9d2t3b3K68m7FQlcmN3G9+aSGpyua277W9NBBVXjE3dDXOViDDPakN3g9yaSKwT27Tudo67w+nizolxdzjuDsfd4bg7HHeH4+5w3B2Ou8PJuTNu2ozwRsKE8WH2UPOLCXV3NER0JnpMOf9Vh3gGPKdh9oez8PyVHHOYyZ8k4J1H6yaQ5i5zpgmux2RvbsDduhhaHFo1UZjvry9yefFxUzVIdwurVTE13C5xRGa1zkLVYK2bzMLdggh1B9F6si3Q53ZqSvpPjc1RuMtULA+n9buZgZetluxLfWSyblu2qbvF3q9+wJioDVB6f+gr487Whax1d0Ebd091x/M/3TOcSULG6m5R+alThAcz2RuC8tz0n6L9bhouKaJLsyPkoLYK34piF1LdWUtBupsqtsbFwAt2JnN/l8O2YAnNnb4wdYpZHQZ7NfAaanmuYIx1Sykdd7WGGFsYFY29QnPunGXcHY67w3F3OO4O5er6H76QHdPbBtJZAAAAAElFTkSuQmCC)\r\n",
        "\r\n",
        "解題思路\r\n",
        "\r\n",
        "最簡單的思路就是，生成頂點的全排列，然後循環遍歷每個排列是不是滿足條件。偽代碼\r\n",
        "\r\n",
        "當存在未遍歷到的組合時\r\n",
        "{\r\n",
        "    if（兩個連續頂點之間有邊\r\n",
        "       並且最後一個頂點和初始點是相連通的）。\r\n",
        "   {\r\n",
        "       打印這種排列方式。\r\n",
        "       break;\r\n",
        "   }\r\n",
        "}\r\n",
        "\r\n",
        "這種算法的時間複雜度是O（n！）級別的，顯然如果n較大的話，那麼這種做法是不合理的。我們可以使用回溯法解决這個問題。\r\n",
        "\r\n",
        "\r\n",
        "\r\n",
        "我們首先創建一個空的path，並且將0這個點加入其中。然後我們從1開始添加後續頂點。在添加後續頂點之前，我們首先要檢查這些頂點是不是與之前添加的頂點相鄰並且我們沒有添加過。如果找到了這樣的點的話，我們就將它添加到path中去，接著我們就要判斷下一個位置的點，在此之前我們先要判斷我們現在path中點的數量是不是已經是全部點的個數了，如果是的話我們要判斷頭結點和尾節點是不是存在邊，如果存在的話，我們就輸出path，如果不存在，我們就要將剛才加入的點給彈出，繼續加入下一個有效點測試。\r\n",
        "\r\n",
        "\r\n",
        "\r\n",
        "---\r\n",
        "\r\n"
      ]
    },
    {
      "cell_type": "markdown",
      "metadata": {
        "id": "1wMhsY2SpMQZ"
      },
      "source": [
        "下面是回溯法解決問題的代碼："
      ]
    },
    {
      "cell_type": "code",
      "metadata": {
        "id": "_XH-xetupvRX"
      },
      "source": [
        "class Graph: \r\n",
        "    def __init__(self, vertices): \r\n",
        "        self.graph = [[0 for column in range(vertices)]\\\r\n",
        "                            for row in range(vertices)] \r\n",
        "        self.V = vertices \r\n",
        "  \r\n",
        "    '''\r\n",
        "    Check if this vertex is an adjacent vertex  \r\n",
        "    of the previously added vertex and is not  \r\n",
        "    included in the path earlier \r\n",
        "    '''\r\n",
        "    def isSafe(self, v, pos, path): \r\n",
        "        # Check if current vertex and last vertex  \r\n",
        "        # in path are adjacent \r\n",
        "        if self.graph[ path[pos-1] ][v] == 0: \r\n",
        "            return False\r\n",
        "  \r\n",
        "        # Check if current vertex not already in path \r\n",
        "        for vertex in path: \r\n",
        "            if vertex == v: \r\n",
        "                return False\r\n",
        "  \r\n",
        "        return True\r\n",
        "  \r\n",
        "    # A recursive utility function to solve  \r\n",
        "    # hamiltonian cycle problem \r\n",
        "    def hamCycleUtil(self, path, pos): \r\n",
        "        # base case: if all vertices are  \r\n",
        "        # included in the path \r\n",
        "        if pos == self.V: \r\n",
        "            # Last vertex must be adjacent to the  \r\n",
        "            # first vertex in path to make a cyle \r\n",
        "            if self.graph[ path[pos-1] ][ path[0] ] == 1: \r\n",
        "                return True\r\n",
        "            else: \r\n",
        "                return False\r\n",
        "  \r\n",
        "        # Try different vertices as a next candidate  \r\n",
        "        # in Hamiltonian Cycle. We don't try for 0 as  \r\n",
        "        # we included 0 as starting point in in hamCycle() \r\n",
        "        for v in range(1,self.V): \r\n",
        "            if self.isSafe(v, pos, path) == True: \r\n",
        "                path[pos] = v \r\n",
        "                if self.hamCycleUtil(path, pos+1) == True: \r\n",
        "                    return True\r\n",
        "                # Remove current vertex if it doesn't  \r\n",
        "                # lead to a solution \r\n",
        "                path[pos] = -1\r\n",
        "  \r\n",
        "        return False\r\n",
        "  \r\n",
        "    def hamCycle(self): \r\n",
        "        path = [-1] * self.V \r\n",
        "        ''' \r\n",
        "        Let us put vertex 0 as the first vertex  \r\n",
        "        in the path. If there is a Hamiltonian Cycle,  \r\n",
        "        then the path can be started from any point \r\n",
        "        of the cycle as the graph is undirected \r\n",
        "        '''\r\n",
        "        path[0] = 0\r\n",
        "        if self.hamCycleUtil(path,1) == False: \r\n",
        "            print(\"Solution does not exist\")\r\n",
        "            return False\r\n",
        "  \r\n",
        "        self.printSolution(path) \r\n",
        "        return True\r\n",
        "  \r\n",
        "    def printSolution(self, path): \r\n",
        "        print(\"Solution Exists: Following is one Hamiltonian Cycle\")\r\n",
        "        for vertex in path: \r\n",
        "            print(vertex, end=' ') \r\n",
        "        print(path[0])\r\n",
        "  \r\n",
        "# Driver Code \r\n",
        "  \r\n",
        "'''\r\n",
        " Let us create the following graph \r\n",
        "      (0)-------(1)-----(2) \r\n",
        "       |   / \\   | \r\n",
        "       |  /   \\  | \r\n",
        "       | /     \\ | \r\n",
        "      (3)---------------(4)    \r\n",
        "'''\r\n",
        "g1 = Graph(5) \r\n",
        "g1.graph = [ [0, 1, 0, 1, 0], [1, 0, 1, 1, 1],  \r\n",
        "             [0, 1, 0, 0, 1,],[1, 1, 0, 0, 1],  \r\n",
        "             [0, 1, 1, 1, 0], ] \r\n",
        "  \r\n",
        "# Print the solution \r\n",
        "g1.hamCycle()\r\n",
        "  \r\n",
        "'''\r\n",
        "Let us create the following graph \r\n",
        "       (0)------(1)----(2) \r\n",
        "       |   / \\   | \r\n",
        "       |  /   \\  | \r\n",
        "       | /     \\ | \r\n",
        "       (3)      (4)\r\n",
        "'''\r\n",
        "g2 = Graph(5) \r\n",
        "g2.graph = [ [0, 1, 0, 1, 0], [1, 0, 1, 1, 1],  \r\n",
        "           [0, 1, 0, 0, 1,], [1, 1, 0, 0, 0],  \r\n",
        "           [0, 1, 1, 0, 0], ] \r\n",
        "  \r\n",
        "# Print the solution \r\n",
        "g2.hamCycle()\r\n",
        "  \r\n",
        "# This code is contributed by Divyanshu Mehta "
      ],
      "execution_count": null,
      "outputs": []
    }
  ]
}