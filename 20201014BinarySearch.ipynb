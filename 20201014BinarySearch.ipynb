{
  "nbformat": 4,
  "nbformat_minor": 0,
  "metadata": {
    "colab": {
      "name": "歡迎使用 Colaboratory",
      "provenance": [],
      "collapsed_sections": [],
      "toc_visible": true,
      "include_colab_link": true
    },
    "kernelspec": {
      "display_name": "Python 3",
      "name": "python3"
    }
  },
  "cells": [
    {
      "cell_type": "markdown",
      "metadata": {
        "id": "view-in-github",
        "colab_type": "text"
      },
      "source": [
        "<a href=\"https://colab.research.google.com/github/oopp456789/oopp/blob/master/20201014BinarySearch.ipynb\" target=\"_parent\"><img src=\"https://colab.research.google.com/assets/colab-badge.svg\" alt=\"Open In Colab\"/></a>"
      ]
    },
    {
      "cell_type": "code",
      "metadata": {
        "id": "fF6So3Qo-oTp",
        "outputId": "5f7928d0-9d0b-4f11-ce31-4d6bf8182310",
        "colab": {
          "base_uri": "https://localhost:8080/",
          "height": 34
        }
      },
      "source": [
        "def binarySearch (arr, l, r, x):\n",
        " if r >= 1:\n",
        "  mid = l + (r - l) // 2\n",
        "  if arr[mid] == x:\n",
        "   return mid\n",
        "  elif arr[mid] > x:\n",
        "   return binarySearch(arr, l, mid-1, x)\n",
        "  else:\n",
        "   return binarySearch(arr, mid+1, r, x)\n",
        " else:\n",
        "  return -1\n",
        "arr = [ 5, 8, 9, 15, 30 ] \n",
        "x = 15\n",
        "# Function call \n",
        "result = binarySearch(arr, 0, len(arr)-1, x);\n",
        "if result != -1:\n",
        " print (\"元素在索引 % d\" % result)\n",
        "else:\n",
        " print (\"陣列中找不到該元素\")\n",
        "\n",
        "\n"
      ],
      "execution_count": 38,
      "outputs": [
        {
          "output_type": "stream",
          "text": [
            "元素在索引  3\n"
          ],
          "name": "stdout"
        }
      ]
    }
  ]
}