{
  "nbformat": 4,
  "nbformat_minor": 0,
  "metadata": {
    "colab": {
      "name": "歡迎使用 Colaboratory",
      "provenance": [],
      "collapsed_sections": [],
      "toc_visible": true,
      "include_colab_link": true
    },
    "kernelspec": {
      "display_name": "Python 3",
      "name": "python3"
    }
  },
  "cells": [
    {
      "cell_type": "markdown",
      "metadata": {
        "id": "view-in-github",
        "colab_type": "text"
      },
      "source": [
        "<a href=\"https://colab.research.google.com/github/oopp456789/oopp/blob/master/20201216Non-deterministic%20Algorithm.ipynb\" target=\"_parent\"><img src=\"https://colab.research.google.com/assets/colab-badge.svg\" alt=\"Open In Colab\"/></a>"
      ]
    },
    {
      "cell_type": "markdown",
      "metadata": {
        "id": "EtqgFDu8aVG0"
      },
      "source": [
        "哈密頓路徑問題"
      ]
    },
    {
      "cell_type": "markdown",
      "metadata": {
        "id": "PTwhgMz4ac79"
      },
      "source": [
        "哈密​​頓圖（英語：Hamiltonian graph，或Traceable graph）是一個無向圖，由天文學家哈密頓提出，由指定的起點前往指定的終點，途中經過所有其他節點且只經過一次。在圖論中是指含有哈密頓迴路的圖，閉合的哈密頓路徑稱作哈密頓迴路（Hamiltonian cycle），含有圖中所有頂點的路徑稱作哈密頓路徑（Hamiltonian path）。"
      ]
    },
    {
      "cell_type": "markdown",
      "metadata": {
        "id": "iElWIf3IcZsY"
      },
      "source": [
        "哈密​​頓路徑問題在上世紀七十年代初，終於被證明是“NP完全”的。據說具有這樣性質的問題，難於找到一個有效的算法。實際上對於某些頂點數不到100的網絡，利用現有最好的算法和計算機也需要比較荒唐的時間（比如幾百年）才能確定其是否存在一條這樣的路徑。\r\n",
        "從圖中的任意一點出發，路途中經過圖中每一個結點當且僅當一次，則成為哈密頓迴路。\r\n",
        "要滿足兩個條件：\r\n",
        "\r\n",
        "⒈封閉的環\r\n",
        "\r\n",
        "⒉是一個連通圖，且圖中任意兩點可達\r\n",
        "經過圖（有向圖或無向圖）中所有頂點一次且僅一次的通路稱為哈密頓通路。\r\n",
        "經過圖中所有頂點一次且僅一次的迴路稱為哈密頓迴路。\r\n",
        "具有哈密頓迴路的圖稱為哈密頓圖，具有哈密頓通路但不具有哈密頓迴路的圖稱為半哈密頓圖。\r\n",
        "平凡圖是哈密頓圖。\r\n",
        "\r\n"
      ]
    },
    {
      "cell_type": "markdown",
      "metadata": {
        "id": "uwcH5YtocvEE"
      },
      "source": [
        ""
      ]
    }
  ]
}