{
  "nbformat": 4,
  "nbformat_minor": 0,
  "metadata": {
    "colab": {
      "name": "歡迎使用 Colaboratory",
      "provenance": [],
      "collapsed_sections": [],
      "toc_visible": true,
      "include_colab_link": true
    },
    "kernelspec": {
      "display_name": "Python 3",
      "name": "python3"
    }
  },
  "cells": [
    {
      "cell_type": "markdown",
      "metadata": {
        "id": "view-in-github",
        "colab_type": "text"
      },
      "source": [
        "<a href=\"https://colab.research.google.com/github/oopp456789/oopp/blob/master/20201104hanoi.ipynb\" target=\"_parent\"><img src=\"https://colab.research.google.com/assets/colab-badge.svg\" alt=\"Open In Colab\"/></a>"
      ]
    },
    {
      "cell_type": "markdown",
      "metadata": {
        "id": "nlC5gSN2IbZm"
      },
      "source": [
        "河內塔"
      ]
    },
    {
      "cell_type": "code",
      "metadata": {
        "id": "LbJshmBTIbhM",
        "outputId": "b03ad21c-e1dc-4df3-8056-ecbe053675c6",
        "colab": {
          "base_uri": "https://localhost:8080/"
        }
      },
      "source": [
        "x = 0\n",
        "def hanoi(n, A, B, C):\n",
        "    global x\n",
        "    if n == 1:\n",
        "      print(A + \"-→\" + C + \" 執行次數：\" + str(x))\n",
        "      x = x + 1\n",
        "        \n",
        "    else:\n",
        "      hanoi(n-1, A, C, B)\n",
        "      print(A + \"-→\" + C + \" 執行次數：\" + str(x))\n",
        "      x = x + 1\n",
        "      hanoi(n-1, B, A, C)\n",
        "\n",
        "ringNum = int(input(\"盤子數目：\"))\n",
        "hanoi(ringNum, \"A\", \"B\", \"C\")\n"
      ],
      "execution_count": 24,
      "outputs": [
        {
          "output_type": "stream",
          "text": [
            "盤子數目：5\n",
            "A-→C 執行次數：0\n",
            "A-→B 執行次數：1\n",
            "C-→B 執行次數：2\n",
            "A-→C 執行次數：3\n",
            "B-→A 執行次數：4\n",
            "B-→C 執行次數：5\n",
            "A-→C 執行次數：6\n",
            "A-→B 執行次數：7\n",
            "C-→B 執行次數：8\n",
            "C-→A 執行次數：9\n",
            "B-→A 執行次數：10\n",
            "C-→B 執行次數：11\n",
            "A-→C 執行次數：12\n",
            "A-→B 執行次數：13\n",
            "C-→B 執行次數：14\n",
            "A-→C 執行次數：15\n",
            "B-→A 執行次數：16\n",
            "B-→C 執行次數：17\n",
            "A-→C 執行次數：18\n",
            "B-→A 執行次數：19\n",
            "C-→B 執行次數：20\n",
            "C-→A 執行次數：21\n",
            "B-→A 執行次數：22\n",
            "B-→C 執行次數：23\n",
            "A-→C 執行次數：24\n",
            "A-→B 執行次數：25\n",
            "C-→B 執行次數：26\n",
            "A-→C 執行次數：27\n",
            "B-→A 執行次數：28\n",
            "B-→C 執行次數：29\n",
            "A-→C 執行次數：30\n"
          ],
          "name": "stdout"
        }
      ]
    }
  ]
}