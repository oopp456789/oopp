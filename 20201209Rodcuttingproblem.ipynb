{
  "nbformat": 4,
  "nbformat_minor": 0,
  "metadata": {
    "colab": {
      "name": "歡迎使用 Colaboratory",
      "provenance": [],
      "collapsed_sections": [],
      "toc_visible": true,
      "include_colab_link": true
    },
    "kernelspec": {
      "display_name": "Python 3",
      "name": "python3"
    }
  },
  "cells": [
    {
      "cell_type": "markdown",
      "metadata": {
        "id": "view-in-github",
        "colab_type": "text"
      },
      "source": [
        "<a href=\"https://colab.research.google.com/github/oopp456789/oopp/blob/master/20201209Rodcuttingproblem.ipynb\" target=\"_parent\"><img src=\"https://colab.research.google.com/assets/colab-badge.svg\" alt=\"Open In Colab\"/></a>"
      ]
    },
    {
      "cell_type": "markdown",
      "metadata": {
        "id": "Tfm5mwMxXIwz"
      },
      "source": [
        "動態規劃 鐵條切割問題"
      ]
    },
    {
      "cell_type": "code",
      "metadata": {
        "colab": {
          "base_uri": "https://localhost:8080/"
        },
        "id": "HKr2FoT_XQ0c",
        "outputId": "6b75ac20-e4e1-4a1e-d0c3-73941c7e9283"
      },
      "source": [
        "length = [1, 2, 3, 4, 5, 6, 7, 8, 9, 10]\r\n",
        "profit = [1, 5, 8, 9, 10, 17, 17, 20, 24, 30]\r\n",
        " \r\n",
        "def great(p, n):\r\n",
        "    r = [0]*(n+1)\r\n",
        "    s = [0]*(n+1)\r\n",
        "    for j in range(1, n+1):\r\n",
        "        q = -1\r\n",
        "        for i in range(1,j+1):\r\n",
        "            if i <= len(profit):\r\n",
        "                if q < p[i-1]+r[j-i]:\r\n",
        "                    q = p[i-1]+r[j-i]\r\n",
        "                    s[j] = i\r\n",
        "            else:\r\n",
        "                if q < r[i]+r[j-i]:\r\n",
        "                    q = r[i] + r[j-i]\r\n",
        "                    s[j] = i\r\n",
        "        r[j] = q\r\n",
        "    return q\r\n",
        "num=int(input('長度為:'))\r\n",
        "print('最大賣出價格是:'+ str(great(profit, num)))"
      ],
      "execution_count": 21,
      "outputs": [
        {
          "output_type": "stream",
          "text": [
            "長度為:8\n",
            "最大賣出價格是:22\n"
          ],
          "name": "stdout"
        }
      ]
    }
  ]
}