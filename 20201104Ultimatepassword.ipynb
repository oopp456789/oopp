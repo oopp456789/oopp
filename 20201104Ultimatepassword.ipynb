{
  "nbformat": 4,
  "nbformat_minor": 0,
  "metadata": {
    "colab": {
      "name": "歡迎使用 Colaboratory",
      "provenance": [],
      "collapsed_sections": [],
      "toc_visible": true,
      "include_colab_link": true
    },
    "kernelspec": {
      "display_name": "Python 3",
      "name": "python3"
    }
  },
  "cells": [
    {
      "cell_type": "markdown",
      "metadata": {
        "id": "view-in-github",
        "colab_type": "text"
      },
      "source": [
        "<a href=\"https://colab.research.google.com/github/oopp456789/oopp/blob/master/20201104Ultimatepassword.ipynb\" target=\"_parent\"><img src=\"https://colab.research.google.com/assets/colab-badge.svg\" alt=\"Open In Colab\"/></a>"
      ]
    },
    {
      "cell_type": "markdown",
      "metadata": {
        "id": "HcLwZp_SOgIN"
      },
      "source": [
        "終極密碼"
      ]
    },
    {
      "cell_type": "code",
      "metadata": {
        "id": "yevEIs9EOijQ",
        "outputId": "79f5374f-8300-4d3f-8245-6dd1e0c719bb",
        "colab": {
          "base_uri": "https://localhost:8080/"
        }
      },
      "source": [
        "from random import randint\n",
        "\n",
        "lowest = 1\n",
        "highest = 100\n",
        "answer = randint(lowest, highest)\n",
        "\n",
        "while True:\n",
        "    guess = input('密碼介於 ' + str(lowest) + '-' + str(highest) + ':\\n>>')\n",
        " \n",
        "    try:\n",
        "        guess = int(guess)  \n",
        "    except ValueError:  \n",
        "        print('格式錯誤，請輸入數字\\n')\n",
        "        continue\n",
        " \n",
        "        \n",
        "    if guess <= lowest or guess >= highest:\n",
        "        print('請輸入 ' + str(lowest) + '-' + str(highest) + ' 之間的整數\\n')\n",
        "        continue\n",
        " \n",
        "    if guess == answer:\n",
        "        print('答對了！')\n",
        "        break   \n",
        "    elif guess < answer:\n",
        "        lowest = guess\n",
        "    else:\n",
        "        highest = guess"
      ],
      "execution_count": 30,
      "outputs": [
        {
          "output_type": "stream",
          "text": [
            "密碼介於 1-100:\n",
            ">>25\n",
            "密碼介於 25-100:\n",
            ">>50\n",
            "密碼介於 50-100:\n",
            ">>45\n",
            "請輸入 50-100 之間的整數\n",
            "\n",
            "密碼介於 50-100:\n",
            ">>75\n",
            "密碼介於 75-100:\n",
            ">>85\n",
            "密碼介於 75-85:\n",
            ">>80\n",
            "密碼介於 75-80:\n",
            ">>77\n",
            "答對了！\n"
          ],
          "name": "stdout"
        }
      ]
    }
  ]
}