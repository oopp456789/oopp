{
  "nbformat": 4,
  "nbformat_minor": 0,
  "metadata": {
    "colab": {
      "name": "selctionsort.ipynb",
      "provenance": [],
      "collapsed_sections": [],
      "include_colab_link": true
    },
    "kernelspec": {
      "name": "python3",
      "display_name": "Python 3"
    }
  },
  "cells": [
    {
      "cell_type": "markdown",
      "metadata": {
        "id": "view-in-github",
        "colab_type": "text"
      },
      "source": [
        "<a href=\"https://colab.research.google.com/github/oopp456789/oopp/blob/master/1118%E6%9C%9F%E4%B8%AD%E8%80%83.ipynb\" target=\"_parent\"><img src=\"https://colab.research.google.com/assets/colab-badge.svg\" alt=\"Open In Colab\"/></a>"
      ]
    },
    {
      "cell_type": "markdown",
      "metadata": {
        "id": "W-Z0kMaDLJOp"
      },
      "source": [
        "Selection sort (選擇排序)"
      ]
    },
    {
      "cell_type": "code",
      "metadata": {
        "id": "8tM3sv79HQ_V",
        "colab": {
          "base_uri": "https://localhost:8080/"
        },
        "outputId": "cb2ed2c4-2ba5-4026-bcf7-d96526c73515"
      },
      "source": [
        "def Selction_Sort(datas):\n",
        "    for i in range(len(datas)-1):\n",
        "        max = i # 第一次選從第一個數開始,第二次從第二個數開始 \n",
        "        for j in range(i+1, len(datas)):    # 用記錄的max數與其他的比較 \n",
        "            if datas[j] > datas[max]:\n",
        "                max = j \n",
        "\n",
        "        datas[i], datas[max] = datas[max], datas[i] \n",
        "\n",
        "        print('第'+str(i+1)+'次排序:'+str(datas))\n",
        "        print('---'*10)\n",
        "    return datas\n",
        "\n",
        "\n",
        "if __name__ == '__main__':\n",
        "    import random\n",
        "    a = list(range(8)) #1\n",
        "    random.shuffle(a)\n",
        "    print('原始數列:'+str(a))\n",
        "    a = Selction_Sort(a) \n",
        "    print('排序結果:'+str(a)) \n",
        "\n",
        "\n",
        "    "
      ],
      "execution_count": 25,
      "outputs": [
        {
          "output_type": "stream",
          "text": [
            "原始數列:[4, 5, 2, 0, 1, 3, 7, 6]\n",
            "第1次排序:[7, 5, 2, 0, 1, 3, 4, 6]\n",
            "------------------------------\n",
            "第2次排序:[7, 6, 2, 0, 1, 3, 4, 5]\n",
            "------------------------------\n",
            "第3次排序:[7, 6, 5, 0, 1, 3, 4, 2]\n",
            "------------------------------\n",
            "第4次排序:[7, 6, 5, 4, 1, 3, 0, 2]\n",
            "------------------------------\n",
            "第5次排序:[7, 6, 5, 4, 3, 1, 0, 2]\n",
            "------------------------------\n",
            "第6次排序:[7, 6, 5, 4, 3, 2, 0, 1]\n",
            "------------------------------\n",
            "第7次排序:[7, 6, 5, 4, 3, 2, 1, 0]\n",
            "------------------------------\n",
            "排序結果:[7, 6, 5, 4, 3, 2, 1, 0]\n"
          ],
          "name": "stdout"
        }
      ]
    },
    {
      "cell_type": "markdown",
      "metadata": {
        "id": "MiWPt8bALDN5"
      },
      "source": [
        "請加入註解\n"
      ]
    }
  ]
}