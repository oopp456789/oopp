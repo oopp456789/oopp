{
  "nbformat": 4,
  "nbformat_minor": 0,
  "metadata": {
    "colab": {
      "name": "selctionsort.ipynb",
      "provenance": [],
      "collapsed_sections": [],
      "include_colab_link": true
    },
    "kernelspec": {
      "name": "python3",
      "display_name": "Python 3"
    }
  },
  "cells": [
    {
      "cell_type": "markdown",
      "metadata": {
        "id": "view-in-github",
        "colab_type": "text"
      },
      "source": [
        "<a href=\"https://colab.research.google.com/github/oopp456789/oopp/blob/master/1118%E6%9C%9F%E4%B8%AD%E8%80%83.ipynb\" target=\"_parent\"><img src=\"https://colab.research.google.com/assets/colab-badge.svg\" alt=\"Open In Colab\"/></a>"
      ]
    },
    {
      "cell_type": "markdown",
      "metadata": {
        "id": "W-Z0kMaDLJOp"
      },
      "source": [
        "選擇排序 由大到小"
      ]
    },
    {
      "cell_type": "code",
      "metadata": {
        "id": "8tM3sv79HQ_V",
        "colab": {
          "base_uri": "https://localhost:8080/"
        },
        "outputId": "ec23e696-b147-4bde-a642-65a147481418"
      },
      "source": [
        "# 先做將數字轉換為國字\n",
        "class Hans(str):\n",
        "\tdef __init__(self, string=\"\"):\n",
        "\t\tsuper().__init__()\n",
        "\n",
        "\n",
        "# 要動態增加的方法\n",
        "def hans(string):\n",
        "\timport re\n",
        "\th = [\"零\", \"一\", \"二\", \"三\", \"四\", \"五\", \"六\", \"七\", \"八\", \"九\"]\n",
        "\tfor i in re.findall(r\"\\d\", string):\n",
        "\t\tstring = string.replace(i, h[int(i)])\n",
        "\treturn string\n",
        "\n",
        "\n",
        "# 將 hans 屬性化，並動態增加至 Hans\n",
        "Hans.hans = property(hans)\n",
        "\n",
        "#開始寫選擇排序\n",
        "def Selction_Sort(datas):\n",
        "    for i in range(len(datas)-1):\n",
        "        max = i # 第一次選從第一個數開始,第二次從第二個數開始 \n",
        "        for j in range(i+1, len(datas)):    # 用記錄的max數與其他的比較 \n",
        "            if datas[j] > datas[max]:    # 將大的往前移\n",
        "                max = j \n",
        "\n",
        "        datas[i], datas[max] = datas[max], datas[i] \n",
        "\n",
        "        print('第'+Hans(i+1).hans.upper()+'次排序:'+str(datas)) # 輸出第幾次排序的樣子\n",
        "    return datas\n",
        "\n",
        "\n",
        "if __name__ == '__main__':\n",
        "    import random\n",
        "    a = list(range(8)) # 隨機產生八個數字\n",
        "    random.shuffle(a)\n",
        "    print('原始數列:'+str(a)) # 輸出原始數列\n",
        "    a = Selction_Sort(a) # 開始排序\n",
        "    print('排序結果:'+str(a)) # 輸出排序結果\n",
        "\n",
        "\n",
        "    "
      ],
      "execution_count": 31,
      "outputs": [
        {
          "output_type": "stream",
          "text": [
            "原始數列:[4, 6, 7, 3, 1, 2, 0, 5]\n",
            "第一次排序:[7, 6, 4, 3, 1, 2, 0, 5]\n",
            "第二次排序:[7, 6, 4, 3, 1, 2, 0, 5]\n",
            "第三次排序:[7, 6, 5, 3, 1, 2, 0, 4]\n",
            "第四次排序:[7, 6, 5, 4, 1, 2, 0, 3]\n",
            "第五次排序:[7, 6, 5, 4, 3, 2, 0, 1]\n",
            "第六次排序:[7, 6, 5, 4, 3, 2, 0, 1]\n",
            "第七次排序:[7, 6, 5, 4, 3, 2, 1, 0]\n",
            "排序結果:[7, 6, 5, 4, 3, 2, 1, 0]\n"
          ],
          "name": "stdout"
        }
      ]
    },
    {
      "cell_type": "markdown",
      "metadata": {
        "id": "MiWPt8bALDN5"
      },
      "source": [
        "請加入註解\n"
      ]
    }
  ]
}