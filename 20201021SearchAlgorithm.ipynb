{
  "nbformat": 4,
  "nbformat_minor": 0,
  "metadata": {
    "colab": {
      "name": "歡迎使用 Colaboratory",
      "provenance": [],
      "collapsed_sections": [],
      "toc_visible": true,
      "include_colab_link": true
    },
    "kernelspec": {
      "display_name": "Python 3",
      "name": "python3"
    }
  },
  "cells": [
    {
      "cell_type": "markdown",
      "metadata": {
        "id": "view-in-github",
        "colab_type": "text"
      },
      "source": [
        "<a href=\"https://colab.research.google.com/github/oopp456789/oopp/blob/master/20201021SearchAlgorithm.ipynb\" target=\"_parent\"><img src=\"https://colab.research.google.com/assets/colab-badge.svg\" alt=\"Open In Colab\"/></a>"
      ]
    },
    {
      "cell_type": "markdown",
      "metadata": {
        "id": "ucl4PwbOJSx-"
      },
      "source": [
        "線性探測法"
      ]
    },
    {
      "cell_type": "code",
      "metadata": {
        "id": "fF4MILyFCQDB",
        "outputId": "6c16400f-e3fe-4d1f-e124-3d9a45ddad63",
        "colab": {
          "base_uri": "https://localhost:8080/",
          "height": 221
        }
      },
      "source": [
        "import random\n",
        "\n",
        "INDEXBOX=10  #雜湊法最大元素\n",
        "MAXNUM=7   #最大資料個數\n",
        "\n",
        "def print_data(data,max_number):  #列印陣列副程式\n",
        "   print('\\t',end='')\n",
        "   for i in range(max_number):\n",
        "     print('[%2d]'%data[i],end='')\n",
        "   print()\n",
        "\n",
        "def create_table(num,index): #建立雜湊法副程式\n",
        "   tmp=num%INDEXBOX  #雜湊函數=資料%INDEXBOX\n",
        "   while True:\n",
        "     if index[tmp]==-1: #如果資料對應的位置是空的\n",
        "       index[tmp]=num  #則直接存入資料\n",
        "       break\n",
        "     else:\n",
        "       tmp=(tmp+1)%INDEXBOX  #否則往後找位置存放\n",
        "\n",
        "# Main\n",
        "index=[None]*INDEXBOX\n",
        "data=[None]*MAXNUM\n",
        "\n",
        "print('原始陣列值:')\n",
        "for i in range(MAXNUM): #起始資料值\n",
        "   data[i]=random.randint(1,20)\n",
        "for i in range(INDEXBOX): #清除雜湊表\n",
        "   index[i]=-1\n",
        "print_data(data,MAXNUM)  #列印起始資料\n",
        "\n",
        "print('雜湊表內容:')\n",
        "for i in range(MAXNUM): #建立雜湊表\n",
        "   create_table(data[i],index)\n",
        "   print(' %2d =>' %data[i],end='') #列印單一元素的雜湊表位置\n",
        "   print_data(index,INDEXBOX)\n",
        "\n",
        "print('完成雜湊表:')\n",
        "print_data(index,INDEXBOX) #列印最後完成結果"
      ],
      "execution_count": 1,
      "outputs": [
        {
          "output_type": "stream",
          "text": [
            "原始陣列值:\n",
            "\t[19][ 2][ 8][17][ 6][13][ 9]\n",
            "雜湊表內容:\n",
            " 19 =>\t[-1][-1][-1][-1][-1][-1][-1][-1][-1][19]\n",
            "  2 =>\t[-1][-1][ 2][-1][-1][-1][-1][-1][-1][19]\n",
            "  8 =>\t[-1][-1][ 2][-1][-1][-1][-1][-1][ 8][19]\n",
            " 17 =>\t[-1][-1][ 2][-1][-1][-1][-1][17][ 8][19]\n",
            "  6 =>\t[-1][-1][ 2][-1][-1][-1][ 6][17][ 8][19]\n",
            " 13 =>\t[-1][-1][ 2][13][-1][-1][ 6][17][ 8][19]\n",
            "  9 =>\t[ 9][-1][ 2][13][-1][-1][ 6][17][ 8][19]\n",
            "完成雜湊表:\n",
            "\t[ 9][-1][ 2][13][-1][-1][ 6][17][ 8][19]\n"
          ],
          "name": "stdout"
        }
      ]
    },
    {
      "cell_type": "markdown",
      "metadata": {
        "id": "2WKWPnd2JXkq"
      },
      "source": [
        "鏈結串列"
      ]
    },
    {
      "cell_type": "code",
      "metadata": {
        "id": "MJNRoPKIJd9M"
      },
      "source": [
        ""
      ],
      "execution_count": null,
      "outputs": []
    },
    {
      "cell_type": "markdown",
      "metadata": {
        "id": "Dr86wfvAJbSl"
      },
      "source": [
        "平方探測"
      ]
    },
    {
      "cell_type": "code",
      "metadata": {
        "id": "oDbPPJNbJe_M"
      },
      "source": [
        ""
      ],
      "execution_count": null,
      "outputs": []
    }
  ]
}