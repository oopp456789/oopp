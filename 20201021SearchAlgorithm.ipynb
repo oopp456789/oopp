{
  "nbformat": 4,
  "nbformat_minor": 0,
  "metadata": {
    "colab": {
      "name": "歡迎使用 Colaboratory",
      "provenance": [],
      "collapsed_sections": [],
      "toc_visible": true,
      "include_colab_link": true
    },
    "kernelspec": {
      "display_name": "Python 3",
      "name": "python3"
    }
  },
  "cells": [
    {
      "cell_type": "markdown",
      "metadata": {
        "id": "view-in-github",
        "colab_type": "text"
      },
      "source": [
        "<a href=\"https://colab.research.google.com/github/oopp456789/oopp/blob/master/20201021SearchAlgorithm.ipynb\" target=\"_parent\"><img src=\"https://colab.research.google.com/assets/colab-badge.svg\" alt=\"Open In Colab\"/></a>"
      ]
    },
    {
      "cell_type": "code",
      "metadata": {
        "id": "fF4MILyFCQDB"
      },
      "source": [
        "import random\n",
        "\n",
        "INDEXBOX=10  #雜湊法最大元素\n",
        "MAXNUM=7   #最大資料個數\n",
        "\n",
        "def print_data(data,max_number):  #列印陣列副程式\n",
        "   print('\\t',end='')\n",
        "   for i in range(max_number):\n",
        "     print('[%2d]'%data[i],end='')\n",
        "   print()\n",
        "\n",
        "def create_table(num,index): #建立雜湊法副程式\n",
        "   tmp=num%INDEXBOX  #雜湊函數=資料%INDEXBOX\n",
        "   while True:\n",
        "     if index[tmp]==-1: #如果資料對應的位置是空的\n",
        "       index[tmp]=num  #則直接存入資料\n",
        "       break\n",
        "     else:\n",
        "       tmp=(tmp+1)%INDEXBOX  #否則往後找位置存放\n",
        "\n",
        "# Main\n",
        "index=[None]*INDEXBOX\n",
        "data=[None]*MAXNUM\n",
        "\n",
        "print('原始陣列值:')\n",
        "for i in range(MAXNUM): #起始資料值\n",
        "   data[i]=random.randint(1,20)\n",
        "for i in range(INDEXBOX): #清除雜湊表\n",
        "   index[i]=-1\n",
        "print_data(data,MAXNUM)  #列印起始資料\n",
        "\n",
        "print('雜湊表內容:')\n",
        "for i in range(MAXNUM): #建立雜湊表\n",
        "   create_table(data[i],index)\n",
        "   print(' %2d =>' %data[i],end='') #列印單一元素的雜湊表位置\n",
        "   print_data(index,INDEXBOX)\n",
        "\n",
        "print('完成雜湊表:')\n",
        "print_data(index,INDEXBOX) #列印最後完成結果"
      ],
      "execution_count": null,
      "outputs": []
    }
  ]
}