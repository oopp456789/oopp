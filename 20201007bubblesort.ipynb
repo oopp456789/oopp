{
  "nbformat": 4,
  "nbformat_minor": 0,
  "metadata": {
    "colab": {
      "name": "bubblesort.ipynb",
      "provenance": [],
      "include_colab_link": true
    },
    "kernelspec": {
      "name": "python3",
      "display_name": "Python 3"
    }
  },
  "cells": [
    {
      "cell_type": "markdown",
      "metadata": {
        "id": "view-in-github",
        "colab_type": "text"
      },
      "source": [
        "<a href=\"https://colab.research.google.com/github/oopp456789/oopp/blob/master/20201007bubblesort.ipynb\" target=\"_parent\"><img src=\"https://colab.research.google.com/assets/colab-badge.svg\" alt=\"Open In Colab\"/></a>"
      ]
    },
    {
      "cell_type": "markdown",
      "metadata": {
        "id": "32sgU0StMiof"
      },
      "source": [
        "Bubble sort (氣泡排序)"
      ]
    },
    {
      "cell_type": "code",
      "metadata": {
        "id": "esB_4fSeMLYJ",
        "outputId": "e5e38be2-88c0-4f18-be68-1a7a89fe94a2",
        "colab": {
          "base_uri": "https://localhost:8080/",
          "height": 153
        }
      },
      "source": [
        "def Bubble_Sort(datas):\n",
        "    for i in range(1, len(datas)): # \n",
        "        for j in range(len(datas)-i):   # \n",
        "            if datas[j] > datas[j+1]:   # \n",
        "                datas[j], datas[j+1] = datas[j+1], datas[j]\n",
        "    return datas\n",
        "\n",
        "\n",
        "if __name__ == '__main__':\n",
        "    import random\n",
        "    a = [int(input()), int(input()),int(input()),int(input()),int(input()),int(input())] #改為自己輸入6個數字\n",
        "    random.shuffle(a)\n",
        "    print(a)\n",
        "    a = Bubble_Sort(a)\n",
        "    print(a)"
      ],
      "execution_count": 1,
      "outputs": [
        {
          "output_type": "stream",
          "text": [
            "25\n",
            "69\n",
            "21\n",
            "5\n",
            "26\n",
            "100\n",
            "[25, 26, 100, 21, 69, 5]\n",
            "[5, 21, 25, 26, 69, 100]\n"
          ],
          "name": "stdout"
        }
      ]
    },
    {
      "cell_type": "markdown",
      "metadata": {
        "id": "MOQ_aZKnM-wL"
      },
      "source": [
        "請加入註解，並將程式修改為加入六個數做氣泡排序\n"
      ]
    }
  ]
}